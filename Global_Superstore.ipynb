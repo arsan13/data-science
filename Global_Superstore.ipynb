{
  "nbformat": 4,
  "nbformat_minor": 0,
  "metadata": {
    "colab": {
      "name": "Global-Superstore.ipynb",
      "provenance": [],
      "collapsed_sections": [],
      "toc_visible": true,
      "authorship_tag": "ABX9TyPcbVU1uBmtXTRwhOhc1zMI",
      "include_colab_link": true
    },
    "kernelspec": {
      "name": "python3",
      "display_name": "Python 3"
    },
    "language_info": {
      "name": "python"
    }
  },
  "cells": [
    {
      "cell_type": "markdown",
      "metadata": {
        "id": "view-in-github",
        "colab_type": "text"
      },
      "source": [
        "<a href=\"https://colab.research.google.com/github/arsan13/Data-Science/blob/main/Global_Superstore.ipynb\" target=\"_parent\"><img src=\"https://colab.research.google.com/assets/colab-badge.svg\" alt=\"Open In Colab\"/></a>"
      ]
    },
    {
      "cell_type": "markdown",
      "metadata": {
        "id": "_TJ9P5nBrPRM"
      },
      "source": [
        "# **Global Superstore Sales**"
      ]
    },
    {
      "cell_type": "code",
      "metadata": {
        "id": "b0LvRLiurL9l"
      },
      "source": [
        "import numpy as np\n",
        "import pandas as pd\n",
        "import seaborn as sns \n",
        "import matplotlib.pyplot as plt\n",
        "%matplotlib inline\n",
        "\n",
        "from sklearn.model_selection import train_test_split\n",
        "from sklearn.linear_model import LinearRegression\n",
        "from sklearn.ensemble import RandomForestRegressor\n",
        "from sklearn.preprocessing import MinMaxScaler\n",
        "from sklearn.preprocessing import LabelEncoder\n",
        "from sklearn.metrics import r2_score\n",
        "\n",
        "from scipy.stats import pearsonr"
      ],
      "execution_count": null,
      "outputs": []
    },
    {
      "cell_type": "markdown",
      "metadata": {
        "id": "50V2C31bvc75"
      },
      "source": [
        "### **Data Collection**"
      ]
    },
    {
      "cell_type": "code",
      "metadata": {
        "id": "XzW6TYumvh7f"
      },
      "source": [
        "df = pd.read_excel('/content/Global_Superstore.xlsx')"
      ],
      "execution_count": null,
      "outputs": []
    },
    {
      "cell_type": "markdown",
      "metadata": {
        "id": "pkgbV1qCv_0N"
      },
      "source": [
        "### **Analysing Data**"
      ]
    },
    {
      "cell_type": "code",
      "metadata": {
        "colab": {
          "base_uri": "https://localhost:8080/",
          "height": 301
        },
        "id": "WvTFTvFJv2_B",
        "outputId": "52e41d27-1fc3-43b9-97b9-6f06b1e3e7cf"
      },
      "source": [
        "df.head(2)"
      ],
      "execution_count": null,
      "outputs": [
        {
          "output_type": "execute_result",
          "data": {
            "text/html": [
              "<div>\n",
              "<style scoped>\n",
              "    .dataframe tbody tr th:only-of-type {\n",
              "        vertical-align: middle;\n",
              "    }\n",
              "\n",
              "    .dataframe tbody tr th {\n",
              "        vertical-align: top;\n",
              "    }\n",
              "\n",
              "    .dataframe thead th {\n",
              "        text-align: right;\n",
              "    }\n",
              "</style>\n",
              "<table border=\"1\" class=\"dataframe\">\n",
              "  <thead>\n",
              "    <tr style=\"text-align: right;\">\n",
              "      <th></th>\n",
              "      <th>Row ID</th>\n",
              "      <th>Order ID</th>\n",
              "      <th>Order Date</th>\n",
              "      <th>Ship Date</th>\n",
              "      <th>Ship Mode</th>\n",
              "      <th>Customer ID</th>\n",
              "      <th>Customer Name</th>\n",
              "      <th>Segment</th>\n",
              "      <th>City</th>\n",
              "      <th>State</th>\n",
              "      <th>Country</th>\n",
              "      <th>Postal Code</th>\n",
              "      <th>Market</th>\n",
              "      <th>Region</th>\n",
              "      <th>Product ID</th>\n",
              "      <th>Category</th>\n",
              "      <th>Sub-Category</th>\n",
              "      <th>Product Name</th>\n",
              "      <th>Sales</th>\n",
              "      <th>Quantity</th>\n",
              "      <th>Discount</th>\n",
              "      <th>Profit</th>\n",
              "      <th>Shipping Cost</th>\n",
              "      <th>Order Priority</th>\n",
              "    </tr>\n",
              "  </thead>\n",
              "  <tbody>\n",
              "    <tr>\n",
              "      <th>0</th>\n",
              "      <td>32298</td>\n",
              "      <td>CA-2012-124891</td>\n",
              "      <td>2012-07-31</td>\n",
              "      <td>2012-07-31</td>\n",
              "      <td>Same Day</td>\n",
              "      <td>RH-19495</td>\n",
              "      <td>Rick Hansen</td>\n",
              "      <td>Consumer</td>\n",
              "      <td>New York City</td>\n",
              "      <td>New York</td>\n",
              "      <td>United States</td>\n",
              "      <td>10024.0</td>\n",
              "      <td>US</td>\n",
              "      <td>East</td>\n",
              "      <td>TEC-AC-10003033</td>\n",
              "      <td>Technology</td>\n",
              "      <td>Accessories</td>\n",
              "      <td>Plantronics CS510 - Over-the-Head monaural Wir...</td>\n",
              "      <td>2309.650</td>\n",
              "      <td>7</td>\n",
              "      <td>0.0</td>\n",
              "      <td>762.1845</td>\n",
              "      <td>933.57</td>\n",
              "      <td>Critical</td>\n",
              "    </tr>\n",
              "    <tr>\n",
              "      <th>1</th>\n",
              "      <td>26341</td>\n",
              "      <td>IN-2013-77878</td>\n",
              "      <td>2013-02-05</td>\n",
              "      <td>2013-02-07</td>\n",
              "      <td>Second Class</td>\n",
              "      <td>JR-16210</td>\n",
              "      <td>Justin Ritter</td>\n",
              "      <td>Corporate</td>\n",
              "      <td>Wollongong</td>\n",
              "      <td>New South Wales</td>\n",
              "      <td>Australia</td>\n",
              "      <td>NaN</td>\n",
              "      <td>APAC</td>\n",
              "      <td>Oceania</td>\n",
              "      <td>FUR-CH-10003950</td>\n",
              "      <td>Furniture</td>\n",
              "      <td>Chairs</td>\n",
              "      <td>Novimex Executive Leather Armchair, Black</td>\n",
              "      <td>3709.395</td>\n",
              "      <td>9</td>\n",
              "      <td>0.1</td>\n",
              "      <td>-288.7650</td>\n",
              "      <td>923.63</td>\n",
              "      <td>Critical</td>\n",
              "    </tr>\n",
              "  </tbody>\n",
              "</table>\n",
              "</div>"
            ],
            "text/plain": [
              "   Row ID        Order ID Order Date  ...    Profit Shipping Cost Order Priority\n",
              "0   32298  CA-2012-124891 2012-07-31  ...  762.1845        933.57       Critical\n",
              "1   26341   IN-2013-77878 2013-02-05  ... -288.7650        923.63       Critical\n",
              "\n",
              "[2 rows x 24 columns]"
            ]
          },
          "metadata": {
            "tags": []
          },
          "execution_count": 3
        }
      ]
    },
    {
      "cell_type": "code",
      "metadata": {
        "colab": {
          "base_uri": "https://localhost:8080/"
        },
        "id": "YIdQRduaeIgT",
        "outputId": "4d681b39-fcc7-4568-8e69-7fe0bc3265e5"
      },
      "source": [
        "df.shape"
      ],
      "execution_count": null,
      "outputs": [
        {
          "output_type": "execute_result",
          "data": {
            "text/plain": [
              "(51290, 24)"
            ]
          },
          "metadata": {
            "tags": []
          },
          "execution_count": 4
        }
      ]
    },
    {
      "cell_type": "code",
      "metadata": {
        "colab": {
          "base_uri": "https://localhost:8080/"
        },
        "id": "KpJ6C7K6eLKu",
        "outputId": "21e922dc-c3c9-4cb6-809c-4cf323fa9dbc"
      },
      "source": [
        "df.info()"
      ],
      "execution_count": null,
      "outputs": [
        {
          "output_type": "stream",
          "text": [
            "<class 'pandas.core.frame.DataFrame'>\n",
            "RangeIndex: 51290 entries, 0 to 51289\n",
            "Data columns (total 24 columns):\n",
            " #   Column          Non-Null Count  Dtype         \n",
            "---  ------          --------------  -----         \n",
            " 0   Row ID          51290 non-null  int64         \n",
            " 1   Order ID        51290 non-null  object        \n",
            " 2   Order Date      51290 non-null  datetime64[ns]\n",
            " 3   Ship Date       51290 non-null  datetime64[ns]\n",
            " 4   Ship Mode       51290 non-null  object        \n",
            " 5   Customer ID     51290 non-null  object        \n",
            " 6   Customer Name   51290 non-null  object        \n",
            " 7   Segment         51290 non-null  object        \n",
            " 8   City            51290 non-null  object        \n",
            " 9   State           51290 non-null  object        \n",
            " 10  Country         51290 non-null  object        \n",
            " 11  Postal Code     9994 non-null   float64       \n",
            " 12  Market          51290 non-null  object        \n",
            " 13  Region          51290 non-null  object        \n",
            " 14  Product ID      51290 non-null  object        \n",
            " 15  Category        51290 non-null  object        \n",
            " 16  Sub-Category    51290 non-null  object        \n",
            " 17  Product Name    51290 non-null  object        \n",
            " 18  Sales           51290 non-null  float64       \n",
            " 19  Quantity        51290 non-null  int64         \n",
            " 20  Discount        51290 non-null  float64       \n",
            " 21  Profit          51290 non-null  float64       \n",
            " 22  Shipping Cost   51290 non-null  float64       \n",
            " 23  Order Priority  51290 non-null  object        \n",
            "dtypes: datetime64[ns](2), float64(5), int64(2), object(15)\n",
            "memory usage: 9.4+ MB\n"
          ],
          "name": "stdout"
        }
      ]
    },
    {
      "cell_type": "code",
      "metadata": {
        "colab": {
          "base_uri": "https://localhost:8080/"
        },
        "id": "pmr2KF7HnGC6",
        "outputId": "bf9e1f2b-7b18-49a8-80ee-232fe3bc18eb"
      },
      "source": [
        "df['Category'].value_counts()"
      ],
      "execution_count": null,
      "outputs": [
        {
          "output_type": "execute_result",
          "data": {
            "text/plain": [
              "Office Supplies    31273\n",
              "Technology         10141\n",
              "Furniture           9876\n",
              "Name: Category, dtype: int64"
            ]
          },
          "metadata": {
            "tags": []
          },
          "execution_count": 6
        }
      ]
    },
    {
      "cell_type": "code",
      "metadata": {
        "colab": {
          "base_uri": "https://localhost:8080/"
        },
        "id": "0rl2cUFXZCEd",
        "outputId": "70f2961a-b164-47a7-f4d4-5939571e7211"
      },
      "source": [
        "df['Sub-Category'].value_counts()"
      ],
      "execution_count": null,
      "outputs": [
        {
          "output_type": "execute_result",
          "data": {
            "text/plain": [
              "Binders        6152\n",
              "Storage        5059\n",
              "Art            4883\n",
              "Paper          3538\n",
              "Chairs         3434\n",
              "Phones         3357\n",
              "Furnishings    3170\n",
              "Accessories    3075\n",
              "Labels         2606\n",
              "Envelopes      2435\n",
              "Supplies       2425\n",
              "Fasteners      2420\n",
              "Bookcases      2411\n",
              "Copiers        2223\n",
              "Appliances     1755\n",
              "Machines       1486\n",
              "Tables          861\n",
              "Name: Sub-Category, dtype: int64"
            ]
          },
          "metadata": {
            "tags": []
          },
          "execution_count": 7
        }
      ]
    },
    {
      "cell_type": "code",
      "metadata": {
        "colab": {
          "base_uri": "https://localhost:8080/"
        },
        "id": "rqvsWUB8nMdz",
        "outputId": "1bb7519a-236c-4fab-80c4-94940d451c53"
      },
      "source": [
        "df['Region'].value_counts()"
      ],
      "execution_count": null,
      "outputs": [
        {
          "output_type": "execute_result",
          "data": {
            "text/plain": [
              "Central           11117\n",
              "South              6645\n",
              "EMEA               5029\n",
              "North              4785\n",
              "Africa             4587\n",
              "Oceania            3487\n",
              "West               3203\n",
              "Southeast Asia     3129\n",
              "East               2848\n",
              "North Asia         2338\n",
              "Central Asia       2048\n",
              "Caribbean          1690\n",
              "Canada              384\n",
              "Name: Region, dtype: int64"
            ]
          },
          "metadata": {
            "tags": []
          },
          "execution_count": 8
        }
      ]
    },
    {
      "cell_type": "code",
      "metadata": {
        "colab": {
          "base_uri": "https://localhost:8080/",
          "height": 296
        },
        "id": "TZ38dXXdT3O0",
        "outputId": "e755a4b5-079f-4125-bbd0-60336f3b3da8"
      },
      "source": [
        "sns.barplot(x=\"Category\", y =\"Profit\", data=df)"
      ],
      "execution_count": null,
      "outputs": [
        {
          "output_type": "execute_result",
          "data": {
            "text/plain": [
              "<matplotlib.axes._subplots.AxesSubplot at 0x7fe450fb87d0>"
            ]
          },
          "metadata": {
            "tags": []
          },
          "execution_count": 9
        },
        {
          "output_type": "display_data",
          "data": {
            "image/png": "[encoded data removed]",
            "text/plain": [
              "<Figure size 432x288 with 1 Axes>"
            ]
          },
          "metadata": {
            "tags": [],
            "needs_background": "light"
          }
        }
      ]
    },
    {
      "cell_type": "code",
      "metadata": {
        "colab": {
          "base_uri": "https://localhost:8080/",
          "height": 296
        },
        "id": "yoWZTQpefvOC",
        "outputId": "3b966a55-dddd-4a65-e8fe-7679e2d2f0f2"
      },
      "source": [
        "sns.barplot(x=\"Segment\", y =\"Profit\", hue=\"Category\", data=df)"
      ],
      "execution_count": null,
      "outputs": [
        {
          "output_type": "execute_result",
          "data": {
            "text/plain": [
              "<matplotlib.axes._subplots.AxesSubplot at 0x7fe450f27950>"
            ]
          },
          "metadata": {
            "tags": []
          },
          "execution_count": 10
        },
        {
          "output_type": "display_data",
          "data": {
            "image/png": "[encoded data removed]",
            "text/plain": [
              "<Figure size 432x288 with 1 Axes>"
            ]
          },
          "metadata": {
            "tags": [],
            "needs_background": "light"
          }
        }
      ]
    },
    {
      "cell_type": "code",
      "metadata": {
        "colab": {
          "base_uri": "https://localhost:8080/",
          "height": 458
        },
        "id": "1yQEsQ8kcMi6",
        "outputId": "514ec6f3-8fd3-4b7e-aecb-baa359eecfe7"
      },
      "source": [
        "sns.jointplot(x=\"Profit\", y=\"Discount\", data=df, kind=\"reg\")"
      ],
      "execution_count": null,
      "outputs": [
        {
          "output_type": "execute_result",
          "data": {
            "text/plain": [
              "<seaborn.axisgrid.JointGrid at 0x7fe451455e10>"
            ]
          },
          "metadata": {
            "tags": []
          },
          "execution_count": 11
        },
        {
          "output_type": "display_data",
          "data": {
            "image/png": "[encoded data removed]",
            "text/plain": [
              "<Figure size 432x432 with 3 Axes>"
            ]
          },
          "metadata": {
            "tags": [],
            "needs_background": "light"
          }
        }
      ]
    },
    {
      "cell_type": "code",
      "metadata": {
        "colab": {
          "base_uri": "https://localhost:8080/",
          "height": 296
        },
        "id": "uBNCalpkVKQe",
        "outputId": "34c7dfc8-6b14-4ef6-f018-1a04017bd3ed"
      },
      "source": [
        "sns.scatterplot(x=\"Profit\", y =\"Quantity\", hue=\"Category\", data=df)"
      ],
      "execution_count": null,
      "outputs": [
        {
          "output_type": "execute_result",
          "data": {
            "text/plain": [
              "<matplotlib.axes._subplots.AxesSubplot at 0x7fe442a2b590>"
            ]
          },
          "metadata": {
            "tags": []
          },
          "execution_count": 12
        },
        {
          "output_type": "display_data",
          "data": {
            "image/png": "[encoded data removed]",
            "text/plain": [
              "<Figure size 432x288 with 1 Axes>"
            ]
          },
          "metadata": {
            "tags": [],
            "needs_background": "light"
          }
        }
      ]
    },
    {
      "cell_type": "code",
      "metadata": {
        "colab": {
          "base_uri": "https://localhost:8080/"
        },
        "id": "eXxsUf2asmzh",
        "outputId": "646a4014-c67b-44e9-e936-8be0cb407cc0"
      },
      "source": [
        "corr, _ = pearsonr(df['Profit'], df['Quantity'])\n",
        "print('Pearson: %.3f' % corr)"
      ],
      "execution_count": null,
      "outputs": [
        {
          "output_type": "stream",
          "text": [
            "Pearson: 0.104\n"
          ],
          "name": "stdout"
        }
      ]
    },
    {
      "cell_type": "code",
      "metadata": {
        "id": "Ui1-wGj2y3Mh",
        "colab": {
          "base_uri": "https://localhost:8080/"
        },
        "outputId": "1bf5f369-738c-43e3-db33-ca7063720eee"
      },
      "source": [
        "df.isnull().sum()"
      ],
      "execution_count": null,
      "outputs": [
        {
          "output_type": "execute_result",
          "data": {
            "text/plain": [
              "Row ID                0\n",
              "Order ID              0\n",
              "Order Date            0\n",
              "Ship Date             0\n",
              "Ship Mode             0\n",
              "Customer ID           0\n",
              "Customer Name         0\n",
              "Segment               0\n",
              "City                  0\n",
              "State                 0\n",
              "Country               0\n",
              "Postal Code       41296\n",
              "Market                0\n",
              "Region                0\n",
              "Product ID            0\n",
              "Category              0\n",
              "Sub-Category          0\n",
              "Product Name          0\n",
              "Sales                 0\n",
              "Quantity              0\n",
              "Discount              0\n",
              "Profit                0\n",
              "Shipping Cost         0\n",
              "Order Priority        0\n",
              "dtype: int64"
            ]
          },
          "metadata": {
            "tags": []
          },
          "execution_count": 14
        }
      ]
    },
    {
      "cell_type": "code",
      "metadata": {
        "colab": {
          "base_uri": "https://localhost:8080/"
        },
        "id": "TBHRB5tpxpz4",
        "outputId": "7699c9a5-efb6-4eb8-9124-131dc2fae873"
      },
      "source": [
        "df.nunique()"
      ],
      "execution_count": null,
      "outputs": [
        {
          "output_type": "execute_result",
          "data": {
            "text/plain": [
              "Row ID            51290\n",
              "Order ID          25035\n",
              "Order Date         1430\n",
              "Ship Date          1464\n",
              "Ship Mode             4\n",
              "Customer ID        1590\n",
              "Customer Name       795\n",
              "Segment               3\n",
              "City               3636\n",
              "State              1094\n",
              "Country             147\n",
              "Postal Code         631\n",
              "Market                7\n",
              "Region               13\n",
              "Product ID        10292\n",
              "Category              3\n",
              "Sub-Category         17\n",
              "Product Name       3788\n",
              "Sales             22995\n",
              "Quantity             14\n",
              "Discount             27\n",
              "Profit            24575\n",
              "Shipping Cost     10037\n",
              "Order Priority        4\n",
              "dtype: int64"
            ]
          },
          "metadata": {
            "tags": []
          },
          "execution_count": 15
        }
      ]
    },
    {
      "cell_type": "markdown",
      "metadata": {
        "id": "S7A6sWAdwGqc"
      },
      "source": [
        "### **Data Preprocessing**"
      ]
    },
    {
      "cell_type": "code",
      "metadata": {
        "id": "luBDRer51dFD"
      },
      "source": [
        "# Helper functions\n",
        "\n",
        "# Convert date column into year, month and day columns \n",
        "def process_dates(df, column):\n",
        "  data = df.copy()\n",
        "  data[column] = pd.to_datetime(data[column])\n",
        "  data[column + '_year'] = data[column].apply(lambda x : x.year)\n",
        "  data[column + '_month'] = data[column].apply(lambda x : x.month)\n",
        "  data[column + '_day'] = data[column].apply(lambda x : x.day)\n",
        "  data.drop(column, axis=1, inplace=True)\n",
        "  return data\n",
        "\n",
        "# Converting categorical data \n",
        "def onehot_encode(df, column):\n",
        "  data = df.copy()\n",
        "  dummies = pd.get_dummies(data[column], prefix=column, drop_first=True)\n",
        "  data = pd.concat([data, dummies],axis=1)\n",
        "  data.drop(column, axis=1, inplace=True)\n",
        "  return data\n",
        "\n",
        "# Converting categorical data \n",
        "def onehot_encode_top(df, column, count):\n",
        "  data = df.copy()\n",
        "  top = [x for x in df[column].value_counts().sort_values(ascending=False).head(count).index ]\n",
        "  for label in top:\n",
        "    df[column+'_'+label] = np.where(df[column]==label, 1, 0)\n",
        "  data.drop(column, axis=1, inplace=True)\n",
        "  return data\n",
        "\n",
        "# Converting categorical data \n",
        "def label_encode(df, column):\n",
        "  data = df.copy()\n",
        "  le = LabelEncoder()\n",
        "  data[column] = le.fit_transform(data[column])\n",
        "  return data"
      ],
      "execution_count": null,
      "outputs": []
    },
    {
      "cell_type": "code",
      "metadata": {
        "id": "cR2wUw5Uw_4m"
      },
      "source": [
        "def preprocess(df):\n",
        "  data = df.copy()\n",
        "\n",
        "  # Drop unnecessary columns\n",
        "  data.drop(['Row ID','Order ID', 'Customer Name', 'Product Name', 'Ship Mode', 'City', 'State', 'Postal Code', \n",
        "              'Segment', 'Ship Date', 'Market', 'Order Priority', 'Quantity'], axis=1, inplace=True)\n",
        "\n",
        "  # Extract date features\n",
        "  data = process_dates(data, column='Order Date')\n",
        "\n",
        "  # One-Hot Encoding\n",
        "  for col in ['Region','Category', 'Sub-Category']: \n",
        "    data = onehot_encode(data, column=col)\n",
        "\n",
        "  # One-Hot Encoding top_x values\n",
        "  data = onehot_encode_top(data, column='Country', count=10)\n",
        "\n",
        "  # Label Encoding\n",
        "  for col in data.columns.values:\n",
        "    if data[col].dtypes=='object':\n",
        "      data = label_encode(data, column=col)  \n",
        "\n",
        "  return data"
      ],
      "execution_count": null,
      "outputs": []
    },
    {
      "cell_type": "code",
      "metadata": {
        "colab": {
          "base_uri": "https://localhost:8080/",
          "height": 148
        },
        "id": "aWZ1Dx8_yOgm",
        "outputId": "a71af281-cd63-4000-d5f3-c77d522a5fad"
      },
      "source": [
        "new_df = preprocess(df)\n",
        "new_df.head(2)"
      ],
      "execution_count": null,
      "outputs": [
        {
          "output_type": "execute_result",
          "data": {
            "text/html": [
              "<div>\n",
              "<style scoped>\n",
              "    .dataframe tbody tr th:only-of-type {\n",
              "        vertical-align: middle;\n",
              "    }\n",
              "\n",
              "    .dataframe tbody tr th {\n",
              "        vertical-align: top;\n",
              "    }\n",
              "\n",
              "    .dataframe thead th {\n",
              "        text-align: right;\n",
              "    }\n",
              "</style>\n",
              "<table border=\"1\" class=\"dataframe\">\n",
              "  <thead>\n",
              "    <tr style=\"text-align: right;\">\n",
              "      <th></th>\n",
              "      <th>Customer ID</th>\n",
              "      <th>Product ID</th>\n",
              "      <th>Sales</th>\n",
              "      <th>Discount</th>\n",
              "      <th>Profit</th>\n",
              "      <th>Shipping Cost</th>\n",
              "      <th>Order Date_year</th>\n",
              "      <th>Order Date_month</th>\n",
              "      <th>Order Date_day</th>\n",
              "      <th>Region_Canada</th>\n",
              "      <th>Region_Caribbean</th>\n",
              "      <th>Region_Central</th>\n",
              "      <th>Region_Central Asia</th>\n",
              "      <th>Region_EMEA</th>\n",
              "      <th>Region_East</th>\n",
              "      <th>Region_North</th>\n",
              "      <th>Region_North Asia</th>\n",
              "      <th>Region_Oceania</th>\n",
              "      <th>Region_South</th>\n",
              "      <th>Region_Southeast Asia</th>\n",
              "      <th>Region_West</th>\n",
              "      <th>Category_Office Supplies</th>\n",
              "      <th>Category_Technology</th>\n",
              "      <th>Sub-Category_Appliances</th>\n",
              "      <th>Sub-Category_Art</th>\n",
              "      <th>Sub-Category_Binders</th>\n",
              "      <th>Sub-Category_Bookcases</th>\n",
              "      <th>Sub-Category_Chairs</th>\n",
              "      <th>Sub-Category_Copiers</th>\n",
              "      <th>Sub-Category_Envelopes</th>\n",
              "      <th>Sub-Category_Fasteners</th>\n",
              "      <th>Sub-Category_Furnishings</th>\n",
              "      <th>Sub-Category_Labels</th>\n",
              "      <th>Sub-Category_Machines</th>\n",
              "      <th>Sub-Category_Paper</th>\n",
              "      <th>Sub-Category_Phones</th>\n",
              "      <th>Sub-Category_Storage</th>\n",
              "      <th>Sub-Category_Supplies</th>\n",
              "      <th>Sub-Category_Tables</th>\n",
              "    </tr>\n",
              "  </thead>\n",
              "  <tbody>\n",
              "    <tr>\n",
              "      <th>0</th>\n",
              "      <td>1286</td>\n",
              "      <td>8246</td>\n",
              "      <td>2309.650</td>\n",
              "      <td>0.0</td>\n",
              "      <td>762.1845</td>\n",
              "      <td>933.57</td>\n",
              "      <td>2012</td>\n",
              "      <td>7</td>\n",
              "      <td>31</td>\n",
              "      <td>0</td>\n",
              "      <td>0</td>\n",
              "      <td>0</td>\n",
              "      <td>0</td>\n",
              "      <td>0</td>\n",
              "      <td>1</td>\n",
              "      <td>0</td>\n",
              "      <td>0</td>\n",
              "      <td>0</td>\n",
              "      <td>0</td>\n",
              "      <td>0</td>\n",
              "      <td>0</td>\n",
              "      <td>0</td>\n",
              "      <td>1</td>\n",
              "      <td>0</td>\n",
              "      <td>0</td>\n",
              "      <td>0</td>\n",
              "      <td>0</td>\n",
              "      <td>0</td>\n",
              "      <td>0</td>\n",
              "      <td>0</td>\n",
              "      <td>0</td>\n",
              "      <td>0</td>\n",
              "      <td>0</td>\n",
              "      <td>0</td>\n",
              "      <td>0</td>\n",
              "      <td>0</td>\n",
              "      <td>0</td>\n",
              "      <td>0</td>\n",
              "      <td>0</td>\n",
              "    </tr>\n",
              "    <tr>\n",
              "      <th>1</th>\n",
              "      <td>808</td>\n",
              "      <td>907</td>\n",
              "      <td>3709.395</td>\n",
              "      <td>0.1</td>\n",
              "      <td>-288.7650</td>\n",
              "      <td>923.63</td>\n",
              "      <td>2013</td>\n",
              "      <td>2</td>\n",
              "      <td>5</td>\n",
              "      <td>0</td>\n",
              "      <td>0</td>\n",
              "      <td>0</td>\n",
              "      <td>0</td>\n",
              "      <td>0</td>\n",
              "      <td>0</td>\n",
              "      <td>0</td>\n",
              "      <td>0</td>\n",
              "      <td>1</td>\n",
              "      <td>0</td>\n",
              "      <td>0</td>\n",
              "      <td>0</td>\n",
              "      <td>0</td>\n",
              "      <td>0</td>\n",
              "      <td>0</td>\n",
              "      <td>0</td>\n",
              "      <td>0</td>\n",
              "      <td>0</td>\n",
              "      <td>1</td>\n",
              "      <td>0</td>\n",
              "      <td>0</td>\n",
              "      <td>0</td>\n",
              "      <td>0</td>\n",
              "      <td>0</td>\n",
              "      <td>0</td>\n",
              "      <td>0</td>\n",
              "      <td>0</td>\n",
              "      <td>0</td>\n",
              "      <td>0</td>\n",
              "      <td>0</td>\n",
              "    </tr>\n",
              "  </tbody>\n",
              "</table>\n",
              "</div>"
            ],
            "text/plain": [
              "   Customer ID  Product ID  ...  Sub-Category_Supplies  Sub-Category_Tables\n",
              "0         1286        8246  ...                      0                    0\n",
              "1          808         907  ...                      0                    0\n",
              "\n",
              "[2 rows x 39 columns]"
            ]
          },
          "metadata": {
            "tags": []
          },
          "execution_count": 18
        }
      ]
    },
    {
      "cell_type": "markdown",
      "metadata": {
        "id": "R8s4yLuZwNWJ"
      },
      "source": [
        "### **Data Modelling**"
      ]
    },
    {
      "cell_type": "code",
      "metadata": {
        "id": "sTLhZoo6_0PD"
      },
      "source": [
        "X = new_df.drop(columns='Profit')\n",
        "y = new_df[['Profit']]"
      ],
      "execution_count": null,
      "outputs": []
    },
    {
      "cell_type": "code",
      "metadata": {
        "colab": {
          "base_uri": "https://localhost:8080/"
        },
        "id": "lGtpxOrcAKqs",
        "outputId": "2be09c1e-eab6-450f-a6cb-d6f822ea6cba"
      },
      "source": [
        "X_train, X_test, y_train, y_test = train_test_split(X, y, test_size=0.25, shuffle=True, random_state=1)\n",
        "print(X_train.shape, X_test.shape, y_train.shape, y_test.shape)"
      ],
      "execution_count": null,
      "outputs": [
        {
          "output_type": "stream",
          "text": [
            "(38467, 38) (12823, 38) (38467, 1) (12823, 1)\n"
          ],
          "name": "stdout"
        }
      ]
    },
    {
      "cell_type": "markdown",
      "metadata": {
        "id": "f7zXdAbvQbWU"
      },
      "source": [
        "**Linear Regression Algorithm**"
      ]
    },
    {
      "cell_type": "code",
      "metadata": {
        "colab": {
          "base_uri": "https://localhost:8080/"
        },
        "id": "bSEvIGV9AlYw",
        "outputId": "4cf93d86-464c-44b5-d998-31afe0d0dab1"
      },
      "source": [
        "lr = LinearRegression()\n",
        "lr.fit(X_train, y_train)"
      ],
      "execution_count": null,
      "outputs": [
        {
          "output_type": "execute_result",
          "data": {
            "text/plain": [
              "LinearRegression(copy_X=True, fit_intercept=True, n_jobs=None, normalize=False)"
            ]
          },
          "metadata": {
            "tags": []
          },
          "execution_count": 21
        }
      ]
    },
    {
      "cell_type": "code",
      "metadata": {
        "id": "CFnaXd4qBCxh"
      },
      "source": [
        "y_pred = lr.predict(X_test)"
      ],
      "execution_count": null,
      "outputs": []
    },
    {
      "cell_type": "code",
      "metadata": {
        "id": "YQFWu3rEBh5o"
      },
      "source": [
        "# y_test.head(5), y_pred[0:5]\n",
        "# print(np.concatenate(y_test.reshape(len(y_test),1), y_pred.reshape(len(y_pred),1),1))\n",
        "# model.score(X, y)"
      ],
      "execution_count": null,
      "outputs": []
    },
    {
      "cell_type": "code",
      "metadata": {
        "id": "AcKZhN8hBu0s",
        "colab": {
          "base_uri": "https://localhost:8080/"
        },
        "outputId": "953feba4-ac93-41dc-ba2c-34b7a18f64da"
      },
      "source": [
        "r2_score(y_test, y_pred)"
      ],
      "execution_count": null,
      "outputs": [
        {
          "output_type": "execute_result",
          "data": {
            "text/plain": [
              "0.3407771259105845"
            ]
          },
          "metadata": {
            "tags": []
          },
          "execution_count": 24
        }
      ]
    },
    {
      "cell_type": "markdown",
      "metadata": {
        "id": "i_4FM1CJQPUV"
      },
      "source": [
        "**Random Forest Algorithm**"
      ]
    },
    {
      "cell_type": "code",
      "metadata": {
        "id": "BHdjoAHdtTBw"
      },
      "source": [
        "# Scaling features\n",
        "minmaxscaling = MinMaxScaler()\n",
        "X_train_scaled = minmaxscaling.fit_transform(X_train)\n",
        "X_test_scaled = minmaxscaling.transform(X_test)"
      ],
      "execution_count": null,
      "outputs": []
    },
    {
      "cell_type": "code",
      "metadata": {
        "id": "7qJ_yWNHuFV6",
        "colab": {
          "base_uri": "https://localhost:8080/"
        },
        "outputId": "9f7e42a8-dcce-43fc-9a02-e149ae1fe0b4"
      },
      "source": [
        "rf = RandomForestRegressor(random_state=24)\n",
        "rf.fit(X_train_scaled,y_train)\n",
        "predicted = rf.predict(X_test_scaled)"
      ],
      "execution_count": null,
      "outputs": [
        {
          "output_type": "stream",
          "text": [
            "/usr/local/lib/python3.7/dist-packages/ipykernel_launcher.py:2: DataConversionWarning: A column-vector y was passed when a 1d array was expected. Please change the shape of y to (n_samples,), for example using ravel().\n",
            "  \n"
          ],
          "name": "stderr"
        }
      ]
    },
    {
      "cell_type": "code",
      "metadata": {
        "id": "eWeQR-JVuKlb"
      },
      "source": [
        "# comparision_df = pd.DataFrame({'actual':y_test,'predicted':predicted})\n",
        "# comparision_df\n",
        "# y_test.head(), predicted[0:5]"
      ],
      "execution_count": null,
      "outputs": []
    },
    {
      "cell_type": "code",
      "metadata": {
        "id": "lkeS0PDzuqfd"
      },
      "source": [
        "# rf.score(X_train_scaled,y_train)\n",
        "# rf.score(X_test_scaled,y_test)"
      ],
      "execution_count": null,
      "outputs": []
    },
    {
      "cell_type": "code",
      "metadata": {
        "colab": {
          "base_uri": "https://localhost:8080/"
        },
        "id": "PvDFoquGucEe",
        "outputId": "bffd1d60-d26f-417b-85bd-a882ced852a0"
      },
      "source": [
        "r2_score(y_test, predicted)"
      ],
      "execution_count": null,
      "outputs": [
        {
          "output_type": "execute_result",
          "data": {
            "text/plain": [
              "0.7526396908529196"
            ]
          },
          "metadata": {
            "tags": []
          },
          "execution_count": 29
        }
      ]
    }
  ]
}